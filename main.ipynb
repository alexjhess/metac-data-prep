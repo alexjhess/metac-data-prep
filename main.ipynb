{
 "cells": [
  {
   "cell_type": "markdown",
   "id": "c62e34ea-4630-4d04-8a38-1f6334897bf7",
   "metadata": {},
   "source": [
    "# METAC DATA PREP"
   ]
  },
  {
   "cell_type": "code",
   "execution_count": 8,
   "id": "302b14b6-c855-40fd-893d-e5fbe0a34a36",
   "metadata": {},
   "outputs": [],
   "source": [
    "import numpy as np\n",
    "import pandas as pd\n",
    "import matplotlib.pylab as plt"
   ]
  },
  {
   "cell_type": "code",
   "execution_count": 20,
   "id": "70be49a9-dc4c-405b-b016-c1c237747ec2",
   "metadata": {},
   "outputs": [
    {
     "name": "stdout",
     "output_type": "stream",
     "text": [
      "         trialNo  jumpOnly     sequence     lang     mode        angleLimit  \\\n",
      "0             80         0   experiment   German    angle                 0   \n",
      "1         trial#    iWidth    iDistance     wind   jAngle   jStrengthFactor   \n",
      "2              1      0.17         0.58        0       45              0.75   \n",
      "3              2      0.17         0.41        0       45              0.45   \n",
      "4              3      0.17         0.39        0       45               0.3   \n",
      "..           ...       ...          ...      ...      ...               ...   \n",
      "79            78      0.17         0.36     -0.1       45               0.2   \n",
      "80            79      0.17         0.36      0.1       45               0.5   \n",
      "81            80      0.07         0.58        0       45              0.65   \n",
      "82  aversiveness       NaN          NaN      NaN      NaN               NaN   \n",
      "83           0.7       NaN          NaN      NaN      NaN               NaN   \n",
      "\n",
      "    distanceMin  distanceMax    widthS              widthL  jumpStrength  \\\n",
      "0           0.3          0.7      0.07                0.17          0.85   \n",
      "1      jSuccess   prediction   control              tStart    b1Duration   \n",
      "2             1        0.275      0.75   24/04/24 15:54:41          2.99   \n",
      "3             1         0.25      0.85   24/04/24 15:55:17          2.04   \n",
      "4             0        0.725       0.5   24/04/24 15:55:48          3.10   \n",
      "..          ...          ...       ...                 ...           ...   \n",
      "79            0        0.925      0.05   24/04/24 16:39:36          3.50   \n",
      "80            0          0.9     0.075   24/04/24 16:40:09          2.91   \n",
      "81            1         0.25     0.925   24/04/24 16:40:45          4.14   \n",
      "82          NaN          NaN       NaN                 NaN           NaN   \n",
      "83          NaN          NaN       NaN                 NaN           NaN   \n",
      "\n",
      "     windStrength   sceneWidth   sceneHeight  \n",
      "0             0.1       1920.0        1057.0  \n",
      "1             NaN          NaN           NaN  \n",
      "2             NaN          NaN           NaN  \n",
      "3             NaN          NaN           NaN  \n",
      "4             NaN          NaN           NaN  \n",
      "..            ...          ...           ...  \n",
      "79            NaN          NaN           NaN  \n",
      "80            NaN          NaN           NaN  \n",
      "81            NaN          NaN           NaN  \n",
      "82            NaN          NaN           NaN  \n",
      "83            NaN          NaN           NaN  \n",
      "\n",
      "[84 rows x 14 columns]\n"
     ]
    }
   ],
   "source": [
    "data = pd.read_csv(r\"data/TNU_METAC_9004_experiment_240424_1554.csv\")\n",
    "\n",
    "df = pd.DataFrame(data, columns=[\"trialNo\", \"sequence\"])\n",
    "\n",
    "print(data)"
   ]
  }
 ],
 "metadata": {
  "kernelspec": {
   "display_name": "Python 3 (ipykernel)",
   "language": "python",
   "name": "python3"
  },
  "language_info": {
   "codemirror_mode": {
    "name": "ipython",
    "version": 3
   },
   "file_extension": ".py",
   "mimetype": "text/x-python",
   "name": "python",
   "nbconvert_exporter": "python",
   "pygments_lexer": "ipython3",
   "version": "3.12.3"
  }
 },
 "nbformat": 4,
 "nbformat_minor": 5
}
